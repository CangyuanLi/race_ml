{
 "cells": [
  {
   "cell_type": "code",
   "execution_count": 24,
   "metadata": {},
   "outputs": [],
   "source": [
    "import polars as pl\n",
    "\n",
    "from utils.paths import FIG_PATH, FINAL_PATH, TBL_PATH, PPP_PATH, DIST_PATH"
   ]
  },
  {
   "cell_type": "code",
   "execution_count": null,
   "metadata": {},
   "outputs": [],
   "source": [
    "all_df = (\n",
    "    pl.scan_parquet(FINAL_PATH / \"all.parquet\")\n",
    "    .select(\"race_ethnicity\", \"is_self_reported\")\n",
    "    .collect()\n",
    ")"
   ]
  },
  {
   "cell_type": "code",
   "execution_count": null,
   "metadata": {},
   "outputs": [],
   "source": [
    "# with pl.Config(tbl_rows=100):\n",
    "#     print(all_df.get_column(\"state_abbrev\").value_counts())\n",
    "#     print(all_df.get_column(\"zcta\").value_counts())\n",
    "\n",
    "\n",
    "race = all_df.get_column(\"race_ethnicity\").value_counts().rename({\"counts\": \"Total\"})\n",
    "race_self_report = (\n",
    "    all_df.filter(pl.col(\"is_self_reported\"))\n",
    "    .get_column(\"race_ethnicity\")\n",
    "    .value_counts()\n",
    "    .rename({\"counts\": \"Self-Reported\"})\n",
    ")\n",
    "race_inferred = (\n",
    "    all_df.filter(~pl.col(\"is_self_reported\"))\n",
    "    .get_column(\"race_ethnicity\")\n",
    "    .value_counts()\n",
    "    .rename({\"counts\": \"From Ethnicity\"})\n",
    ")\n",
    "race_counts = (\n",
    "    race.join(race_self_report, on=\"race_ethnicity\", how=\"left\")\n",
    "    .join(race_inferred, on=\"race_ethnicity\", how=\"left\")\n",
    "    .sort(\"race_ethnicity\")\n",
    "    .rename({\"race_ethnicity\": \"Race\"})\n",
    "    .fill_null(0)\n",
    "    .fill_nan(0)\n",
    "    .with_columns(\n",
    "        pl.col(\"Total\", \"Self-Reported\", \"From Ethnicity\").apply(lambda x: f\"{x:,}\"),\n",
    "        pl.col(\"Race\").str.to_titlecase(),\n",
    "    )\n",
    ")\n",
    "race_counts.to_pandas().to_latex(TBL_PATH / \"l2_race_counts.tex\", index=False)"
   ]
  },
  {
   "cell_type": "code",
   "execution_count": 3,
   "metadata": {},
   "outputs": [
    {
     "data": {
      "text/plain": [
       "11460475"
      ]
     },
     "execution_count": 3,
     "metadata": {},
     "output_type": "execute_result"
    }
   ],
   "source": [
    "ppp_raw = pl.read_parquet(PPP_PATH / \"ppp_raw.parquet\")\n",
    "ppp_raw.shape[0]"
   ]
  },
  {
   "cell_type": "code",
   "execution_count": 10,
   "metadata": {},
   "outputs": [
    {
     "data": {
      "text/plain": [
       "1066697"
      ]
     },
     "execution_count": 10,
     "metadata": {},
     "output_type": "execute_result"
    }
   ],
   "source": [
    "ppp_clean = pl.read_parquet(PPP_PATH / \"ppp_clean.parquet\")\n",
    "print(ppp_clean.shape[0])\n",
    "print(ppp_clean.unique([\"first_name\", \"last_name\", \"zip\", \"race_ethnicity\"]).shape[0])"
   ]
  },
  {
   "cell_type": "code",
   "execution_count": 23,
   "metadata": {},
   "outputs": [],
   "source": [
    "ppp_test = pl.read_parquet(FINAL_PATH / \"ppp_test.parquet\")\n",
    "ppp_test.unique([\"first_name\", \"last_name\", \"zcta\"]).shape[0]\n",
    "ppp_test.unique(\"state_abbrev\").shape[0]\n",
    "ppp_test.unique(\"zcta\").shape[0]\n",
    "\n",
    "\n",
    "ppp_race_counts = (\n",
    "    ppp_test.get_column(\"race_ethnicity\")\n",
    "    .value_counts()\n",
    "    .rename({\"race_ethnicity\": \"Race\", \"counts\": \"Total\"})\n",
    "    .join(\n",
    "        (\n",
    "            pl.read_parquet(FINAL_PATH / \"ppp_test_sample.parquet\")\n",
    "            .get_column(\"race_ethnicity\")\n",
    "            .value_counts()\n",
    "            .rename({\"race_ethnicity\": \"Race\", \"counts\": \"Sampled\"})\n",
    "        ),\n",
    "        on=\"Race\",\n",
    "        how=\"left\",\n",
    "    )\n",
    "    .sort(\"Race\")\n",
    "    .with_columns(\n",
    "        pl.col(\"Race\").str.to_titlecase(),\n",
    "        pl.col(\"Total\", \"Sampled\").apply(lambda x: f\"{x:,}\"),\n",
    "    )\n",
    "    .to_pandas()\n",
    "    .to_latex(TBL_PATH / \"ppp_race_counts.tex\", index=False)\n",
    ")"
   ]
  },
  {
   "cell_type": "code",
   "execution_count": 25,
   "metadata": {},
   "outputs": [
    {
     "data": {
      "text/html": [
       "<div><style>\n",
       ".dataframe > thead > tr > th,\n",
       ".dataframe > tbody > tr > td {\n",
       "  text-align: right;\n",
       "}\n",
       "</style>\n",
       "<small>shape: (162_254, 7)</small><table border=\"1\" class=\"dataframe\"><thead><tr><th>name</th><th>white</th><th>black</th><th>api</th><th>native</th><th>multiple</th><th>hispanic</th></tr><tr><td>str</td><td>f64</td><td>f64</td><td>f64</td><td>f64</td><td>f64</td><td>f64</td></tr></thead><tbody><tr><td>&quot;AAB&quot;</td><td>0.8797</td><td>0.0175</td><td>0.0175</td><td>0.0</td><td>0.0677</td><td>0.0175</td></tr><tr><td>&quot;AABERG&quot;</td><td>0.951</td><td>0.0</td><td>0.0053</td><td>0.0053</td><td>0.0256</td><td>0.0128</td></tr><tr><td>&quot;AABY&quot;</td><td>0.9818</td><td>0.0061</td><td>0.0061</td><td>0.0</td><td>0.0</td><td>0.0061</td></tr><tr><td>&quot;AADLAND&quot;</td><td>0.8797</td><td>0.0053</td><td>0.0053</td><td>0.0348</td><td>0.0508</td><td>0.0241</td></tr><tr><td>&quot;AAFEDT&quot;</td><td>0.913</td><td>0.0121</td><td>0.0121</td><td>0.0</td><td>0.0507</td><td>0.0121</td></tr><tr><td>&quot;AAGAARD&quot;</td><td>0.9833</td><td>0.0</td><td>0.0056</td><td>0.0</td><td>0.0056</td><td>0.0056</td></tr><tr><td>&quot;AAGARD&quot;</td><td>0.9712</td><td>0.0</td><td>0.0028</td><td>0.0</td><td>0.0028</td><td>0.0231</td></tr><tr><td>&quot;AAGESEN&quot;</td><td>0.9492</td><td>0.0</td><td>0.0169</td><td>0.0</td><td>0.0169</td><td>0.0169</td></tr><tr><td>&quot;AAKER&quot;</td><td>0.9469</td><td>0.0084</td><td>0.0084</td><td>0.0</td><td>0.014</td><td>0.0223</td></tr><tr><td>&quot;AAKHUS&quot;</td><td>0.903</td><td>0.0074</td><td>0.0074</td><td>0.0</td><td>0.0373</td><td>0.0448</td></tr><tr><td>&quot;AAKRE&quot;</td><td>0.973</td><td>0.0</td><td>0.009</td><td>0.0</td><td>0.009</td><td>0.009</td></tr><tr><td>&quot;AALAND&quot;</td><td>0.9268</td><td>0.0183</td><td>0.0</td><td>0.0183</td><td>0.0183</td><td>0.0183</td></tr><tr><td>&hellip;</td><td>&hellip;</td><td>&hellip;</td><td>&hellip;</td><td>&hellip;</td><td>&hellip;</td><td>&hellip;</td></tr><tr><td>&quot;ZYLBERBERG&quot;</td><td>0.7561</td><td>0.0488</td><td>0.0</td><td>0.0</td><td>0.0</td><td>0.1951</td></tr><tr><td>&quot;ZYLINSKI&quot;</td><td>0.9858</td><td>0.0071</td><td>0.0</td><td>0.0</td><td>0.0</td><td>0.0071</td></tr><tr><td>&quot;ZYLKA&quot;</td><td>0.9787</td><td>0.0043</td><td>0.0043</td><td>0.0043</td><td>0.0043</td><td>0.0043</td></tr><tr><td>&quot;ZYLLA&quot;</td><td>0.9532</td><td>0.0</td><td>0.0117</td><td>0.0117</td><td>0.0117</td><td>0.0117</td></tr><tr><td>&quot;ZYLMAN&quot;</td><td>0.9273</td><td>0.0</td><td>0.0</td><td>0.0</td><td>0.0</td><td>0.0727</td></tr><tr><td>&quot;ZYLSTRA&quot;</td><td>0.9647</td><td>0.0019</td><td>0.0049</td><td>0.0019</td><td>0.0049</td><td>0.0217</td></tr><tr><td>&quot;ZYNDA&quot;</td><td>0.9738</td><td>0.004</td><td>0.004</td><td>0.004</td><td>0.004</td><td>0.0101</td></tr><tr><td>&quot;ZYSK&quot;</td><td>0.9873</td><td>0.0</td><td>0.0042</td><td>0.0042</td><td>0.0</td><td>0.0042</td></tr><tr><td>&quot;ZYSKOWSKI&quot;</td><td>0.9655</td><td>0.0027</td><td>0.0027</td><td>0.0</td><td>0.0164</td><td>0.0127</td></tr><tr><td>&quot;ZYSMAN&quot;</td><td>0.9457</td><td>0.0181</td><td>0.0</td><td>0.0</td><td>0.0181</td><td>0.0181</td></tr><tr><td>&quot;ZYWICKI&quot;</td><td>0.9552</td><td>0.0045</td><td>0.0045</td><td>0.0</td><td>0.0125</td><td>0.0233</td></tr><tr><td>&quot;ZYWIEC&quot;</td><td>0.9829</td><td>0.0085</td><td>0.0</td><td>0.0</td><td>0.0</td><td>0.0085</td></tr></tbody></table></div>"
      ],
      "text/plain": [
       "shape: (162_254, 7)\n",
       "┌───────────┬────────┬────────┬────────┬────────┬──────────┬──────────┐\n",
       "│ name      ┆ white  ┆ black  ┆ api    ┆ native ┆ multiple ┆ hispanic │\n",
       "│ ---       ┆ ---    ┆ ---    ┆ ---    ┆ ---    ┆ ---      ┆ ---      │\n",
       "│ str       ┆ f64    ┆ f64    ┆ f64    ┆ f64    ┆ f64      ┆ f64      │\n",
       "╞═══════════╪════════╪════════╪════════╪════════╪══════════╪══════════╡\n",
       "│ AAB       ┆ 0.8797 ┆ 0.0175 ┆ 0.0175 ┆ 0.0    ┆ 0.0677   ┆ 0.0175   │\n",
       "│ AABERG    ┆ 0.951  ┆ 0.0    ┆ 0.0053 ┆ 0.0053 ┆ 0.0256   ┆ 0.0128   │\n",
       "│ AABY      ┆ 0.9818 ┆ 0.0061 ┆ 0.0061 ┆ 0.0    ┆ 0.0      ┆ 0.0061   │\n",
       "│ AADLAND   ┆ 0.8797 ┆ 0.0053 ┆ 0.0053 ┆ 0.0348 ┆ 0.0508   ┆ 0.0241   │\n",
       "│ …         ┆ …      ┆ …      ┆ …      ┆ …      ┆ …        ┆ …        │\n",
       "│ ZYSKOWSKI ┆ 0.9655 ┆ 0.0027 ┆ 0.0027 ┆ 0.0    ┆ 0.0164   ┆ 0.0127   │\n",
       "│ ZYSMAN    ┆ 0.9457 ┆ 0.0181 ┆ 0.0    ┆ 0.0    ┆ 0.0181   ┆ 0.0181   │\n",
       "│ ZYWICKI   ┆ 0.9552 ┆ 0.0045 ┆ 0.0045 ┆ 0.0    ┆ 0.0125   ┆ 0.0233   │\n",
       "│ ZYWIEC    ┆ 0.9829 ┆ 0.0085 ┆ 0.0    ┆ 0.0    ┆ 0.0      ┆ 0.0085   │\n",
       "└───────────┴────────┴────────┴────────┴────────┴──────────┴──────────┘"
      ]
     },
     "execution_count": 25,
     "metadata": {},
     "output_type": "execute_result"
    }
   ],
   "source": [
    "pl.read_csv(DIST_PATH / \"original/prob_race_given_surname_2010.csv\")"
   ]
  }
 ],
 "metadata": {
  "kernelspec": {
   "display_name": "venv",
   "language": "python",
   "name": "python3"
  },
  "language_info": {
   "codemirror_mode": {
    "name": "ipython",
    "version": 3
   },
   "file_extension": ".py",
   "mimetype": "text/x-python",
   "name": "python",
   "nbconvert_exporter": "python",
   "pygments_lexer": "ipython3",
   "version": "3.11.4"
  },
  "orig_nbformat": 4
 },
 "nbformat": 4,
 "nbformat_minor": 2
}
